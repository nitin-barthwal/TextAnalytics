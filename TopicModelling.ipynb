{
  "nbformat": 4,
  "nbformat_minor": 0,
  "metadata": {
    "colab": {
      "name": "TopicModelling.ipynb",
      "version": "0.3.2",
      "provenance": [],
      "collapsed_sections": [],
      "include_colab_link": true
    },
    "kernelspec": {
      "name": "python3",
      "display_name": "Python 3"
    },
    "accelerator": "GPU"
  },
  "cells": [
    {
      "cell_type": "markdown",
      "metadata": {
        "id": "view-in-github",
        "colab_type": "text"
      },
      "source": [
        "<a href=\"https://colab.research.google.com/github/nitin-barthwal/TextAnalytics/blob/master/TopicModelling.ipynb\" target=\"_parent\"><img src=\"https://colab.research.google.com/assets/colab-badge.svg\" alt=\"Open In Colab\"/></a>"
      ]
    },
    {
      "metadata": {
        "id": "HMcuIUa5jbOd",
        "colab_type": "text"
      },
      "cell_type": "markdown",
      "source": [
        "** Latent Semantic Analysis (LSA)**\n",
        "All languages have their own intricacies and nuances which are quite difficult for a machine to capture (sometimes they’re even misunderstood by us humans!). This can include different words that mean the same thing, and also the words which have the same spelling but different meanings.\n",
        "\n",
        "\n",
        "Steps involved in the implementation of LSA\n",
        "Let’s say we have m number of text documents with n number of total unique terms (words). We wish to extract k topics from all the text data in the documents. The number of topics, k, has to be specified by the user.\n",
        "\n",
        "Generate a document-term matrix of shape m x n having **TF-IDF scores**.\n",
        "Then, we will reduce the dimensions of the above matrix to k (no. of desired topics) dimensions, using singular-value decomposition (SVD).\n",
        "SVD decomposes a matrix into three other matrices. Suppose we want to decompose a matrix A using SVD. It will be decomposed into matrix U, matrix S, and VT (transpose of matrix V).Each row of the matrix Uk (document-term matrix) is the vector representation of the corresponding document. The length of these vectors is k, which is the number of desired topics. Vector representation for the terms in our data can be found in the matrix Vk (term-topic matrix).\n",
        "\n",
        "So, **SVD** gives us vectors for every document and term in our data. The length of each vector would be k. We can then use these vectors to find similar words and similar documents using the cosine similarity method.\n",
        " "
      ]
    },
    {
      "metadata": {
        "id": "D51Bu6NPjGwx",
        "colab_type": "text"
      },
      "cell_type": "markdown",
      "source": [
        "![alt text](https://raw.githubusercontent.com/nitin-barthwal/TextAnalytics/master/Screenshot_2.png)"
      ]
    },
    {
      "metadata": {
        "id": "sfKkgueAjY_w",
        "colab_type": "code",
        "colab": {}
      },
      "cell_type": "code",
      "source": [
        "import numpy as np\n",
        "import pandas as pd\n",
        "import matplotlib.pyplot as plt\n",
        "import seaborn as sns\n",
        "\n",
        "#testing if GPU backend enabled for notebook\n",
        "import tensorflow as tf\n",
        "tf.test.gpu_device_name()\n",
        "\n",
        "pd.set_option(\"display.max_colwidth\", 200)"
      ],
      "execution_count": 0,
      "outputs": []
    },
    {
      "metadata": {
        "id": "SOVRHZdnm-_T",
        "colab_type": "code",
        "outputId": "b6b274ed-8241-4bdb-ba00-a4888338a6a9",
        "colab": {
          "base_uri": "https://localhost:8080/",
          "height": 51
        }
      },
      "cell_type": "code",
      "source": [
        "from sklearn.datasets import fetch_20newsgroups\n",
        "\n",
        "dataset = fetch_20newsgroups(shuffle=1, random_state =1, remove=('headers','footers','quotes'))\n",
        "documents = dataset.data\n",
        "#len(documents)\n",
        "#datasets.taget_names"
      ],
      "execution_count": 2,
      "outputs": [
        {
          "output_type": "stream",
          "text": [
            "Downloading 20news dataset. This may take a few minutes.\n",
            "Downloading dataset from https://ndownloader.figshare.com/files/5975967 (14 MB)\n"
          ],
          "name": "stderr"
        }
      ]
    },
    {
      "metadata": {
        "id": "uOZ_QdzEmTPZ",
        "colab_type": "text"
      },
      "cell_type": "markdown",
      "source": [
        "**Data Preprocessing**\n",
        "\n",
        "To start with, we will try to clean our text data as much as possible. The idea is to remove the punctuations, numbers, and special characters all in one step using the regex replace(“[^a-zA-Z#]”, ” “), which will replace everything, except alphabets with space. Then we will remove shorter words because they usually don’t contain useful information. Finally, we will make all the text lowercase to nullify case sensitivity."
      ]
    },
    {
      "metadata": {
        "id": "rkBTNC02pa_a",
        "colab_type": "code",
        "outputId": "27f63d04-a34b-464b-cdfe-8ace68e3f072",
        "colab": {
          "base_uri": "https://localhost:8080/",
          "height": 1091
        }
      },
      "cell_type": "code",
      "source": [
        "news_df = pd.DataFrame({'documents':documents})\n",
        "\n",
        "#Removing everything except alphabets\n",
        "news_df['clean_doc'] = news_df[\"documents\"].str.replace(\"[^a-zA-Z#]\",\" \");\n",
        "\n",
        "# removing short words\n",
        "news_df['clean_doc'] = news_df['clean_doc'].apply(lambda x:' '.join([w for w in x.split() if len(w)>3]))\n",
        "\n",
        "# make all text lowercase\n",
        "news_df['clean_doc'] = news_df['clean_doc'].apply(lambda x:x.lower())\n",
        "\n",
        "news_df['clean_doc']"
      ],
      "execution_count": 3,
      "outputs": [
        {
          "output_type": "execute_result",
          "data": {
            "text/plain": [
              "0        well sure about story seem biased what disagree with your statement that media ruin israels reputation that rediculous media most israeli media world having lived europe realize that incidences su...\n",
              "1        yeah expect people read actually accept hard atheism need little leap faith jimmy your logic runs steam sorry pity sorry that have these feelings denial about faith need well just pretend that wil...\n",
              "2        although realize that principle your strongest points would still like know question this sort about arab countries want continue this think tank charade yours your fixation israel must stop might...\n",
              "3        notwithstanding legitimate fuss about this proposal much change last product this area priced over suspect clipper phones will came customer with automatically preregistered with government author...\n",
              "4        well will have change scoring playoff pool unfortunately have time right will certainly post scoring rules tomorrow does matter enter anyway good keith keller rangers quakers kkeller mail upenn le...\n",
              "5                                        read somewhere think morton smith jesus magician that lazarus wasn dead going tomb part initiation rite magi cult which jesus also part appears that stay normal wonder\n",
              "6        have record that shows iisi with without cache small enough that will attach have also measured some real programs with without cache speedup varies from ranging from think average about right sub...\n",
              "7        sounds like wishful guessing called what mean would peace process palestineans negociate because well founded predictions know that they well founded test them table months prove anything always o...\n",
              "8        nobody saying that shouldn allowed just force others have food that want enhance with just table like salt then option eater make commerical product just leave include packet like some salt packet...\n",
              "9        wondering anyone shed light just that these electronic odometers remember total elapsed mileage what kind memory stable reliable enough volatile enough independent enough outside battery power las...\n",
              "10       archive name graphics resources list part last modified computer graphics resource listing weekly posting part last change april many faqs including this listing available archive site manager ali...\n",
              "11                                      have roberto clemente topps baseball card sale near mint condition really close mint condition lists most recent baseball card pricelist offering certified postage ship\n",
              "12                                                                                           diet evangelist good term fits atkins gordon banks skepticism chastity intellect cadre pitt shameful surrender soon\n",
              "13       damon matter what system explanation creation wish accept always have start with premises creation from nothing creation from something there other alternatives accept other those premises then ag...\n",
              "14                                                                                                                                                                                 title says need know versions\n",
              "15                                                                                                  move political bickering more appropriate group brad kepley internet kepley photon phys unca work days voice\n",
              "16       exactly another observation chip does become standard algorithm remain secret leaving government with only remaining option make escrowed keys illegal which begin bother terrorists child abusers g...\n",
              "17       course mike ramsey time captain buffalo prior being traded pittsburgh currently penguins have former captains real captain lemieux playing them they rotate during season even while mario even troy...\n",
              "18                                                                                                               texas well corpus christi anyway pick phone dial phone company will read back number might work\n",
              "19       sorry thought were discussing heresy assumed that heresy meant departure from orthodoxy which case generally accepted belief indeed important issue this case definition word create great importanc...\n",
              "20       like this info well wavelength think primarily going find usually about either most common have seen were have also heard sure that another will make great deal difference another suggestion find ...\n",
              "21       just shot here never know once bought real cheap equalizer power tape player those motel room truckload sales sounded great while that then channel quit entirely opened amplifier chip channel simp...\n",
              "22       there likely veto proof majority house senate unfortunately different story vowed that bill will voted power addition senate much smaller more readily manipulated body ther other hand semi automat...\n",
              "23       your trust princes biblical proverb modern analog governments time founding idea that citizens rights above those government that common explicit writings founders considerable extent englishmen a...\n",
              "24       promised would give name panther president after huizenga announced team name announced that bill torrey named first president panthers little from sentinel torrey architect four consecutive stanl...\n",
              "25       concept teacher indeed interesting does grade curve does cheat that interesting mention thought provoking concept that father children that loves with love that never understand until with bible s...\n",
              "26       really doesn strike very funny rather indicative what crisis their economy imagine they desparate need markets sustain industries people which nolonger under central control government rosenkranz ...\n",
              "27       know willing speculate anyone several people have suggested that chips public cryptography another possibility diffie hellman exchange some other algorithm which similar effect allows both ends ag...\n",
              "28       game adirondack adirondack leads series first round springfield indians providence bruins springfield providence springfield providence providence springfield providence springfield springfield pr...\n",
              "29                                                              coast over portland then really nice most sure there even better ways watch weather though about good drenching possible oregon coast range once\n",
              "                                                                                                          ...                                                                                                   \n",
              "11284                                                                                                                                                                                                           \n",
              "11285                                                                                                                                                                                            like there this\n",
              "11286    request discussion this request discussion creation newsgroup concerning saab cars will allow participaants exchange information purchasing maintaining repairing outfitting saabs group name autos ...\n",
              "11287    pardon this wrong newsgroup would describe myself agnostic sure there single universal supreme being there just will surely judged whether lived good lives striving achieve that goodness that with...\n",
              "11288                                                                           there there anybody know polygon reduction algorithm marching cube surfaces algirithm schroeder siggraph hints hugs kisses erwin\n",
              "11289    since someone brought sports radio howabout sportswriting anyone give opinion which city think best sports coverage terms print media these general questions washington post better than philadelph...\n",
              "11290    well chalk driving away sympathies looking like paranoid lunatic last heard there were nine apparently this point they found bodies except those killed during initial assault couple months cute ko...\n",
              "11291    please respond email anybody actually seen color space stuff working having luck with either xtici editor from export with reilly able example xcms from reilly example fails almost every inputs be...\n",
              "11292    greetings bunch problems with opening window desktop occasionally result windows blowing into horizontal lines hashing entire desktop nothing recover this except completely exit from windows other...\n",
              "11293                                                                                                                                               mark juric programs mjuric university georgia athens georgia\n",
              "11294    catalog with membrane keypads dunno what happened long that forget name company anyway could make your legend slip behind bezel really nice reasonably priced anyone tell where some more these crit...\n",
              "11295    little bike versus scuffling grow that goes both hope that dump dempster campaign works however think that crook suprised that taken this long anything done though obviously over other hand sure t...\n",
              "11296    hello everybody write here because kind desperate about weeks been suffering pains left head side left sometimes left made many tests computer tomography negative lyme borreliosis negative electro...\n",
              "11297    reply todamhyp charles unlv brian huey kirilian there turned very simple conventional explanation phenomenon recall details believe with object between plates altering field because purely mechani...\n",
              "11298    this exactly what have heard before were fade away nobody what kind evidence would they able catch this assuming that either collected your brass revolver guess time take trip library look illinoi...\n",
              "11299    whats difference between modem modem being entirely silly here what pointing that modems that they have already approved data transmission will work just fine transmit scrambled vocoded voice perr...\n",
              "11300    babies diseases here main problem scenario outline reasonably consistent evidence that familiar with only does support indicates something different earth latest estimates about billion years life...\n",
              "11301    would like know what people opinions about real world differences between with without coprocessor anything like mathamatica maple spreadsheets least sheets with complicated anything apps although...\n",
              "11302    might want clarify game winning streak that pens streak playoff streak tied chicago blackhawks until they pens finals last year game unbeaten regular season unbeaten streak take personally flyers ...\n",
              "11303                                          totally agree with that sentiment have further advocate violating what that question which have answered from scripture worship every long work says sabbath mine\n",
              "11304    agree with what darren here would like personal observation what arrogance problem have with sense personal certainty lack respect others come differing conclusions clearly this just christian chr...\n",
              "11305    people really need sell this sampler bills even going include sample worth least separately this deal emax with standard memory stereo sampling rackmount least voice brand connor internal scsi dri...\n",
              "11306    trying write windows based interface that runs could anyone help understanding supposed fork subprocess currently pipes when debug this program following happens program main printf enter scanf pr...\n",
              "11307    like share thoughts this topic arrogance christians look forward responses encounters with christians find myself dismayed their belief that their faith total truth according them their beliefs co...\n",
              "11308                                                                        sunroof leaks always thought those things were royal pain anyone provide insight know seal great maybe could weld stupid thing shut\n",
              "11309                          danny rubenstein israeli journalist will speaking tonight wednesday messy subject politics israel speaking hillel berkeley campus talk sponsored berkeley israel action committee\n",
              "11310                                                                                                                                                                                                           \n",
              "11311                                                                                                             agree home runs clemens always memorable kinda like eclipses hurricanes they happen very often\n",
              "11312                                           used deskjet with orange micros grappler system update system system with kanji talk then print deskjet grappler deskjet system please tell deskjet system thank\n",
              "11313    argument with murphy scared hell when came last year other hand club though enough boever into awful games have league appearances least some point seemed very viable setup guess that considered t...\n",
              "Name: clean_doc, Length: 11314, dtype: object"
            ]
          },
          "metadata": {
            "tags": []
          },
          "execution_count": 3
        }
      ]
    },
    {
      "metadata": {
        "id": "PD5x2v7kpksp",
        "colab_type": "code",
        "outputId": "4f198dfd-6d93-4616-b380-553029c5ead4",
        "colab": {
          "base_uri": "https://localhost:8080/",
          "height": 1091
        }
      },
      "cell_type": "code",
      "source": [
        "news_df['clean_doc']"
      ],
      "execution_count": 4,
      "outputs": [
        {
          "output_type": "execute_result",
          "data": {
            "text/plain": [
              "0        well sure about story seem biased what disagree with your statement that media ruin israels reputation that rediculous media most israeli media world having lived europe realize that incidences su...\n",
              "1        yeah expect people read actually accept hard atheism need little leap faith jimmy your logic runs steam sorry pity sorry that have these feelings denial about faith need well just pretend that wil...\n",
              "2        although realize that principle your strongest points would still like know question this sort about arab countries want continue this think tank charade yours your fixation israel must stop might...\n",
              "3        notwithstanding legitimate fuss about this proposal much change last product this area priced over suspect clipper phones will came customer with automatically preregistered with government author...\n",
              "4        well will have change scoring playoff pool unfortunately have time right will certainly post scoring rules tomorrow does matter enter anyway good keith keller rangers quakers kkeller mail upenn le...\n",
              "5                                        read somewhere think morton smith jesus magician that lazarus wasn dead going tomb part initiation rite magi cult which jesus also part appears that stay normal wonder\n",
              "6        have record that shows iisi with without cache small enough that will attach have also measured some real programs with without cache speedup varies from ranging from think average about right sub...\n",
              "7        sounds like wishful guessing called what mean would peace process palestineans negociate because well founded predictions know that they well founded test them table months prove anything always o...\n",
              "8        nobody saying that shouldn allowed just force others have food that want enhance with just table like salt then option eater make commerical product just leave include packet like some salt packet...\n",
              "9        wondering anyone shed light just that these electronic odometers remember total elapsed mileage what kind memory stable reliable enough volatile enough independent enough outside battery power las...\n",
              "10       archive name graphics resources list part last modified computer graphics resource listing weekly posting part last change april many faqs including this listing available archive site manager ali...\n",
              "11                                      have roberto clemente topps baseball card sale near mint condition really close mint condition lists most recent baseball card pricelist offering certified postage ship\n",
              "12                                                                                           diet evangelist good term fits atkins gordon banks skepticism chastity intellect cadre pitt shameful surrender soon\n",
              "13       damon matter what system explanation creation wish accept always have start with premises creation from nothing creation from something there other alternatives accept other those premises then ag...\n",
              "14                                                                                                                                                                                 title says need know versions\n",
              "15                                                                                                  move political bickering more appropriate group brad kepley internet kepley photon phys unca work days voice\n",
              "16       exactly another observation chip does become standard algorithm remain secret leaving government with only remaining option make escrowed keys illegal which begin bother terrorists child abusers g...\n",
              "17       course mike ramsey time captain buffalo prior being traded pittsburgh currently penguins have former captains real captain lemieux playing them they rotate during season even while mario even troy...\n",
              "18                                                                                                               texas well corpus christi anyway pick phone dial phone company will read back number might work\n",
              "19       sorry thought were discussing heresy assumed that heresy meant departure from orthodoxy which case generally accepted belief indeed important issue this case definition word create great importanc...\n",
              "20       like this info well wavelength think primarily going find usually about either most common have seen were have also heard sure that another will make great deal difference another suggestion find ...\n",
              "21       just shot here never know once bought real cheap equalizer power tape player those motel room truckload sales sounded great while that then channel quit entirely opened amplifier chip channel simp...\n",
              "22       there likely veto proof majority house senate unfortunately different story vowed that bill will voted power addition senate much smaller more readily manipulated body ther other hand semi automat...\n",
              "23       your trust princes biblical proverb modern analog governments time founding idea that citizens rights above those government that common explicit writings founders considerable extent englishmen a...\n",
              "24       promised would give name panther president after huizenga announced team name announced that bill torrey named first president panthers little from sentinel torrey architect four consecutive stanl...\n",
              "25       concept teacher indeed interesting does grade curve does cheat that interesting mention thought provoking concept that father children that loves with love that never understand until with bible s...\n",
              "26       really doesn strike very funny rather indicative what crisis their economy imagine they desparate need markets sustain industries people which nolonger under central control government rosenkranz ...\n",
              "27       know willing speculate anyone several people have suggested that chips public cryptography another possibility diffie hellman exchange some other algorithm which similar effect allows both ends ag...\n",
              "28       game adirondack adirondack leads series first round springfield indians providence bruins springfield providence springfield providence providence springfield providence springfield springfield pr...\n",
              "29                                                              coast over portland then really nice most sure there even better ways watch weather though about good drenching possible oregon coast range once\n",
              "                                                                                                          ...                                                                                                   \n",
              "11284                                                                                                                                                                                                           \n",
              "11285                                                                                                                                                                                            like there this\n",
              "11286    request discussion this request discussion creation newsgroup concerning saab cars will allow participaants exchange information purchasing maintaining repairing outfitting saabs group name autos ...\n",
              "11287    pardon this wrong newsgroup would describe myself agnostic sure there single universal supreme being there just will surely judged whether lived good lives striving achieve that goodness that with...\n",
              "11288                                                                           there there anybody know polygon reduction algorithm marching cube surfaces algirithm schroeder siggraph hints hugs kisses erwin\n",
              "11289    since someone brought sports radio howabout sportswriting anyone give opinion which city think best sports coverage terms print media these general questions washington post better than philadelph...\n",
              "11290    well chalk driving away sympathies looking like paranoid lunatic last heard there were nine apparently this point they found bodies except those killed during initial assault couple months cute ko...\n",
              "11291    please respond email anybody actually seen color space stuff working having luck with either xtici editor from export with reilly able example xcms from reilly example fails almost every inputs be...\n",
              "11292    greetings bunch problems with opening window desktop occasionally result windows blowing into horizontal lines hashing entire desktop nothing recover this except completely exit from windows other...\n",
              "11293                                                                                                                                               mark juric programs mjuric university georgia athens georgia\n",
              "11294    catalog with membrane keypads dunno what happened long that forget name company anyway could make your legend slip behind bezel really nice reasonably priced anyone tell where some more these crit...\n",
              "11295    little bike versus scuffling grow that goes both hope that dump dempster campaign works however think that crook suprised that taken this long anything done though obviously over other hand sure t...\n",
              "11296    hello everybody write here because kind desperate about weeks been suffering pains left head side left sometimes left made many tests computer tomography negative lyme borreliosis negative electro...\n",
              "11297    reply todamhyp charles unlv brian huey kirilian there turned very simple conventional explanation phenomenon recall details believe with object between plates altering field because purely mechani...\n",
              "11298    this exactly what have heard before were fade away nobody what kind evidence would they able catch this assuming that either collected your brass revolver guess time take trip library look illinoi...\n",
              "11299    whats difference between modem modem being entirely silly here what pointing that modems that they have already approved data transmission will work just fine transmit scrambled vocoded voice perr...\n",
              "11300    babies diseases here main problem scenario outline reasonably consistent evidence that familiar with only does support indicates something different earth latest estimates about billion years life...\n",
              "11301    would like know what people opinions about real world differences between with without coprocessor anything like mathamatica maple spreadsheets least sheets with complicated anything apps although...\n",
              "11302    might want clarify game winning streak that pens streak playoff streak tied chicago blackhawks until they pens finals last year game unbeaten regular season unbeaten streak take personally flyers ...\n",
              "11303                                          totally agree with that sentiment have further advocate violating what that question which have answered from scripture worship every long work says sabbath mine\n",
              "11304    agree with what darren here would like personal observation what arrogance problem have with sense personal certainty lack respect others come differing conclusions clearly this just christian chr...\n",
              "11305    people really need sell this sampler bills even going include sample worth least separately this deal emax with standard memory stereo sampling rackmount least voice brand connor internal scsi dri...\n",
              "11306    trying write windows based interface that runs could anyone help understanding supposed fork subprocess currently pipes when debug this program following happens program main printf enter scanf pr...\n",
              "11307    like share thoughts this topic arrogance christians look forward responses encounters with christians find myself dismayed their belief that their faith total truth according them their beliefs co...\n",
              "11308                                                                        sunroof leaks always thought those things were royal pain anyone provide insight know seal great maybe could weld stupid thing shut\n",
              "11309                          danny rubenstein israeli journalist will speaking tonight wednesday messy subject politics israel speaking hillel berkeley campus talk sponsored berkeley israel action committee\n",
              "11310                                                                                                                                                                                                           \n",
              "11311                                                                                                             agree home runs clemens always memorable kinda like eclipses hurricanes they happen very often\n",
              "11312                                           used deskjet with orange micros grappler system update system system with kanji talk then print deskjet grappler deskjet system please tell deskjet system thank\n",
              "11313    argument with murphy scared hell when came last year other hand club though enough boever into awful games have league appearances least some point seemed very viable setup guess that considered t...\n",
              "Name: clean_doc, Length: 11314, dtype: object"
            ]
          },
          "metadata": {
            "tags": []
          },
          "execution_count": 4
        }
      ]
    },
    {
      "metadata": {
        "id": "whzlh-gprusm",
        "colab_type": "code",
        "outputId": "4698c2e1-bc40-4067-e249-c038d9a3bbb0",
        "colab": {
          "base_uri": "https://localhost:8080/",
          "height": 68
        }
      },
      "cell_type": "code",
      "source": [
        "import nltk\n",
        "nltk.download('stopwords')"
      ],
      "execution_count": 5,
      "outputs": [
        {
          "output_type": "stream",
          "text": [
            "[nltk_data] Downloading package stopwords to /root/nltk_data...\n",
            "[nltk_data]   Unzipping corpora/stopwords.zip.\n"
          ],
          "name": "stdout"
        },
        {
          "output_type": "execute_result",
          "data": {
            "text/plain": [
              "True"
            ]
          },
          "metadata": {
            "tags": []
          },
          "execution_count": 5
        }
      ]
    },
    {
      "metadata": {
        "id": "Ks3eMJWMmlRt",
        "colab_type": "text"
      },
      "cell_type": "markdown",
      "source": [
        "It’s good practice to remove the stop-words from the text data as they are mostly clutter and hardly carry any information. Stop-words are terms like ‘it’, ‘they’, ‘am’, ‘been’, ‘about’, ‘because’, ‘while’, etc.\n",
        "\n",
        "To remove stop-words from the documents, we will have to tokenize the text, i.e., split the string of text into individual tokens or words. We will stitch the tokens back together once we have removed the stop-words."
      ]
    },
    {
      "metadata": {
        "id": "GRplNgl9rKJ_",
        "colab_type": "code",
        "outputId": "4a19b988-dc0b-4b9c-ce80-e18ac58a2a35",
        "colab": {
          "base_uri": "https://localhost:8080/",
          "height": 3060
        }
      },
      "cell_type": "code",
      "source": [
        "from nltk.corpus import stopwords\n",
        "stop_words = stopwords.words('english')\n",
        "stop_words"
      ],
      "execution_count": 6,
      "outputs": [
        {
          "output_type": "execute_result",
          "data": {
            "text/plain": [
              "['i',\n",
              " 'me',\n",
              " 'my',\n",
              " 'myself',\n",
              " 'we',\n",
              " 'our',\n",
              " 'ours',\n",
              " 'ourselves',\n",
              " 'you',\n",
              " \"you're\",\n",
              " \"you've\",\n",
              " \"you'll\",\n",
              " \"you'd\",\n",
              " 'your',\n",
              " 'yours',\n",
              " 'yourself',\n",
              " 'yourselves',\n",
              " 'he',\n",
              " 'him',\n",
              " 'his',\n",
              " 'himself',\n",
              " 'she',\n",
              " \"she's\",\n",
              " 'her',\n",
              " 'hers',\n",
              " 'herself',\n",
              " 'it',\n",
              " \"it's\",\n",
              " 'its',\n",
              " 'itself',\n",
              " 'they',\n",
              " 'them',\n",
              " 'their',\n",
              " 'theirs',\n",
              " 'themselves',\n",
              " 'what',\n",
              " 'which',\n",
              " 'who',\n",
              " 'whom',\n",
              " 'this',\n",
              " 'that',\n",
              " \"that'll\",\n",
              " 'these',\n",
              " 'those',\n",
              " 'am',\n",
              " 'is',\n",
              " 'are',\n",
              " 'was',\n",
              " 'were',\n",
              " 'be',\n",
              " 'been',\n",
              " 'being',\n",
              " 'have',\n",
              " 'has',\n",
              " 'had',\n",
              " 'having',\n",
              " 'do',\n",
              " 'does',\n",
              " 'did',\n",
              " 'doing',\n",
              " 'a',\n",
              " 'an',\n",
              " 'the',\n",
              " 'and',\n",
              " 'but',\n",
              " 'if',\n",
              " 'or',\n",
              " 'because',\n",
              " 'as',\n",
              " 'until',\n",
              " 'while',\n",
              " 'of',\n",
              " 'at',\n",
              " 'by',\n",
              " 'for',\n",
              " 'with',\n",
              " 'about',\n",
              " 'against',\n",
              " 'between',\n",
              " 'into',\n",
              " 'through',\n",
              " 'during',\n",
              " 'before',\n",
              " 'after',\n",
              " 'above',\n",
              " 'below',\n",
              " 'to',\n",
              " 'from',\n",
              " 'up',\n",
              " 'down',\n",
              " 'in',\n",
              " 'out',\n",
              " 'on',\n",
              " 'off',\n",
              " 'over',\n",
              " 'under',\n",
              " 'again',\n",
              " 'further',\n",
              " 'then',\n",
              " 'once',\n",
              " 'here',\n",
              " 'there',\n",
              " 'when',\n",
              " 'where',\n",
              " 'why',\n",
              " 'how',\n",
              " 'all',\n",
              " 'any',\n",
              " 'both',\n",
              " 'each',\n",
              " 'few',\n",
              " 'more',\n",
              " 'most',\n",
              " 'other',\n",
              " 'some',\n",
              " 'such',\n",
              " 'no',\n",
              " 'nor',\n",
              " 'not',\n",
              " 'only',\n",
              " 'own',\n",
              " 'same',\n",
              " 'so',\n",
              " 'than',\n",
              " 'too',\n",
              " 'very',\n",
              " 's',\n",
              " 't',\n",
              " 'can',\n",
              " 'will',\n",
              " 'just',\n",
              " 'don',\n",
              " \"don't\",\n",
              " 'should',\n",
              " \"should've\",\n",
              " 'now',\n",
              " 'd',\n",
              " 'll',\n",
              " 'm',\n",
              " 'o',\n",
              " 're',\n",
              " 've',\n",
              " 'y',\n",
              " 'ain',\n",
              " 'aren',\n",
              " \"aren't\",\n",
              " 'couldn',\n",
              " \"couldn't\",\n",
              " 'didn',\n",
              " \"didn't\",\n",
              " 'doesn',\n",
              " \"doesn't\",\n",
              " 'hadn',\n",
              " \"hadn't\",\n",
              " 'hasn',\n",
              " \"hasn't\",\n",
              " 'haven',\n",
              " \"haven't\",\n",
              " 'isn',\n",
              " \"isn't\",\n",
              " 'ma',\n",
              " 'mightn',\n",
              " \"mightn't\",\n",
              " 'mustn',\n",
              " \"mustn't\",\n",
              " 'needn',\n",
              " \"needn't\",\n",
              " 'shan',\n",
              " \"shan't\",\n",
              " 'shouldn',\n",
              " \"shouldn't\",\n",
              " 'wasn',\n",
              " \"wasn't\",\n",
              " 'weren',\n",
              " \"weren't\",\n",
              " 'won',\n",
              " \"won't\",\n",
              " 'wouldn',\n",
              " \"wouldn't\"]"
            ]
          },
          "metadata": {
            "tags": []
          },
          "execution_count": 6
        }
      ]
    },
    {
      "metadata": {
        "id": "VruvcIbZr9n-",
        "colab_type": "code",
        "outputId": "2e95f295-cad4-4960-f3c7-09d8055d5221",
        "colab": {
          "base_uri": "https://localhost:8080/",
          "height": 1091
        }
      },
      "cell_type": "code",
      "source": [
        "#tokenization\n",
        "tokenized_doc = news_df['clean_doc'].apply(lambda x:x.split())\n",
        "tokenized_doc"
      ],
      "execution_count": 7,
      "outputs": [
        {
          "output_type": "execute_result",
          "data": {
            "text/plain": [
              "0        [well, sure, about, story, seem, biased, what, disagree, with, your, statement, that, media, ruin, israels, reputation, that, rediculous, media, most, israeli, media, world, having, lived, europe,...\n",
              "1        [yeah, expect, people, read, actually, accept, hard, atheism, need, little, leap, faith, jimmy, your, logic, runs, steam, sorry, pity, sorry, that, have, these, feelings, denial, about, faith, nee...\n",
              "2        [although, realize, that, principle, your, strongest, points, would, still, like, know, question, this, sort, about, arab, countries, want, continue, this, think, tank, charade, yours, your, fixat...\n",
              "3        [notwithstanding, legitimate, fuss, about, this, proposal, much, change, last, product, this, area, priced, over, suspect, clipper, phones, will, came, customer, with, automatically, preregistered...\n",
              "4        [well, will, have, change, scoring, playoff, pool, unfortunately, have, time, right, will, certainly, post, scoring, rules, tomorrow, does, matter, enter, anyway, good, keith, keller, rangers, qua...\n",
              "5            [read, somewhere, think, morton, smith, jesus, magician, that, lazarus, wasn, dead, going, tomb, part, initiation, rite, magi, cult, which, jesus, also, part, appears, that, stay, normal, wonder]\n",
              "6        [have, record, that, shows, iisi, with, without, cache, small, enough, that, will, attach, have, also, measured, some, real, programs, with, without, cache, speedup, varies, from, ranging, from, t...\n",
              "7        [sounds, like, wishful, guessing, called, what, mean, would, peace, process, palestineans, negociate, because, well, founded, predictions, know, that, they, well, founded, test, them, table, month...\n",
              "8        [nobody, saying, that, shouldn, allowed, just, force, others, have, food, that, want, enhance, with, just, table, like, salt, then, option, eater, make, commerical, product, just, leave, include, ...\n",
              "9        [wondering, anyone, shed, light, just, that, these, electronic, odometers, remember, total, elapsed, mileage, what, kind, memory, stable, reliable, enough, volatile, enough, independent, enough, o...\n",
              "10       [archive, name, graphics, resources, list, part, last, modified, computer, graphics, resource, listing, weekly, posting, part, last, change, april, many, faqs, including, this, listing, available,...\n",
              "11             [have, roberto, clemente, topps, baseball, card, sale, near, mint, condition, really, close, mint, condition, lists, most, recent, baseball, card, pricelist, offering, certified, postage, ship]\n",
              "12                                                                          [diet, evangelist, good, term, fits, atkins, gordon, banks, skepticism, chastity, intellect, cadre, pitt, shameful, surrender, soon]\n",
              "13       [damon, matter, what, system, explanation, creation, wish, accept, always, have, start, with, premises, creation, from, nothing, creation, from, something, there, other, alternatives, accept, othe...\n",
              "14                                                                                                                                                                           [title, says, need, know, versions]\n",
              "15                                                                                 [move, political, bickering, more, appropriate, group, brad, kepley, internet, kepley, photon, phys, unca, work, days, voice]\n",
              "16       [exactly, another, observation, chip, does, become, standard, algorithm, remain, secret, leaving, government, with, only, remaining, option, make, escrowed, keys, illegal, which, begin, bother, te...\n",
              "17       [course, mike, ramsey, time, captain, buffalo, prior, being, traded, pittsburgh, currently, penguins, have, former, captains, real, captain, lemieux, playing, them, they, rotate, during, season, e...\n",
              "18                                                                                              [texas, well, corpus, christi, anyway, pick, phone, dial, phone, company, will, read, back, number, might, work]\n",
              "19       [sorry, thought, were, discussing, heresy, assumed, that, heresy, meant, departure, from, orthodoxy, which, case, generally, accepted, belief, indeed, important, issue, this, case, definition, wor...\n",
              "20       [like, this, info, well, wavelength, think, primarily, going, find, usually, about, either, most, common, have, seen, were, have, also, heard, sure, that, another, will, make, great, deal, differe...\n",
              "21       [just, shot, here, never, know, once, bought, real, cheap, equalizer, power, tape, player, those, motel, room, truckload, sales, sounded, great, while, that, then, channel, quit, entirely, opened,...\n",
              "22       [there, likely, veto, proof, majority, house, senate, unfortunately, different, story, vowed, that, bill, will, voted, power, addition, senate, much, smaller, more, readily, manipulated, body, the...\n",
              "23       [your, trust, princes, biblical, proverb, modern, analog, governments, time, founding, idea, that, citizens, rights, above, those, government, that, common, explicit, writings, founders, considera...\n",
              "24       [promised, would, give, name, panther, president, after, huizenga, announced, team, name, announced, that, bill, torrey, named, first, president, panthers, little, from, sentinel, torrey, architec...\n",
              "25       [concept, teacher, indeed, interesting, does, grade, curve, does, cheat, that, interesting, mention, thought, provoking, concept, that, father, children, that, loves, with, love, that, never, unde...\n",
              "26       [really, doesn, strike, very, funny, rather, indicative, what, crisis, their, economy, imagine, they, desparate, need, markets, sustain, industries, people, which, nolonger, under, central, contro...\n",
              "27       [know, willing, speculate, anyone, several, people, have, suggested, that, chips, public, cryptography, another, possibility, diffie, hellman, exchange, some, other, algorithm, which, similar, eff...\n",
              "28       [game, adirondack, adirondack, leads, series, first, round, springfield, indians, providence, bruins, springfield, providence, springfield, providence, providence, springfield, providence, springf...\n",
              "29                                      [coast, over, portland, then, really, nice, most, sure, there, even, better, ways, watch, weather, though, about, good, drenching, possible, oregon, coast, range, once]\n",
              "                                                                                                          ...                                                                                                   \n",
              "11284                                                                                                                                                                                                         []\n",
              "11285                                                                                                                                                                                        [like, there, this]\n",
              "11286    [request, discussion, this, request, discussion, creation, newsgroup, concerning, saab, cars, will, allow, participaants, exchange, information, purchasing, maintaining, repairing, outfitting, saa...\n",
              "11287    [pardon, this, wrong, newsgroup, would, describe, myself, agnostic, sure, there, single, universal, supreme, being, there, just, will, surely, judged, whether, lived, good, lives, striving, achiev...\n",
              "11288                                                         [there, there, anybody, know, polygon, reduction, algorithm, marching, cube, surfaces, algirithm, schroeder, siggraph, hints, hugs, kisses, erwin]\n",
              "11289    [since, someone, brought, sports, radio, howabout, sportswriting, anyone, give, opinion, which, city, think, best, sports, coverage, terms, print, media, these, general, questions, washington, pos...\n",
              "11290    [well, chalk, driving, away, sympathies, looking, like, paranoid, lunatic, last, heard, there, were, nine, apparently, this, point, they, found, bodies, except, those, killed, during, initial, ass...\n",
              "11291    [please, respond, email, anybody, actually, seen, color, space, stuff, working, having, luck, with, either, xtici, editor, from, export, with, reilly, able, example, xcms, from, reilly, example, f...\n",
              "11292    [greetings, bunch, problems, with, opening, window, desktop, occasionally, result, windows, blowing, into, horizontal, lines, hashing, entire, desktop, nothing, recover, this, except, completely, ...\n",
              "11293                                                                                                                                      [mark, juric, programs, mjuric, university, georgia, athens, georgia]\n",
              "11294    [catalog, with, membrane, keypads, dunno, what, happened, long, that, forget, name, company, anyway, could, make, your, legend, slip, behind, bezel, really, nice, reasonably, priced, anyone, tell,...\n",
              "11295    [little, bike, versus, scuffling, grow, that, goes, both, hope, that, dump, dempster, campaign, works, however, think, that, crook, suprised, that, taken, this, long, anything, done, though, obvio...\n",
              "11296    [hello, everybody, write, here, because, kind, desperate, about, weeks, been, suffering, pains, left, head, side, left, sometimes, left, made, many, tests, computer, tomography, negative, lyme, bo...\n",
              "11297    [reply, todamhyp, charles, unlv, brian, huey, kirilian, there, turned, very, simple, conventional, explanation, phenomenon, recall, details, believe, with, object, between, plates, altering, field...\n",
              "11298    [this, exactly, what, have, heard, before, were, fade, away, nobody, what, kind, evidence, would, they, able, catch, this, assuming, that, either, collected, your, brass, revolver, guess, time, ta...\n",
              "11299    [whats, difference, between, modem, modem, being, entirely, silly, here, what, pointing, that, modems, that, they, have, already, approved, data, transmission, will, work, just, fine, transmit, sc...\n",
              "11300    [babies, diseases, here, main, problem, scenario, outline, reasonably, consistent, evidence, that, familiar, with, only, does, support, indicates, something, different, earth, latest, estimates, a...\n",
              "11301    [would, like, know, what, people, opinions, about, real, world, differences, between, with, without, coprocessor, anything, like, mathamatica, maple, spreadsheets, least, sheets, with, complicated...\n",
              "11302    [might, want, clarify, game, winning, streak, that, pens, streak, playoff, streak, tied, chicago, blackhawks, until, they, pens, finals, last, year, game, unbeaten, regular, season, unbeaten, stre...\n",
              "11303                 [totally, agree, with, that, sentiment, have, further, advocate, violating, what, that, question, which, have, answered, from, scripture, worship, every, long, work, says, sabbath, mine]\n",
              "11304    [agree, with, what, darren, here, would, like, personal, observation, what, arrogance, problem, have, with, sense, personal, certainty, lack, respect, others, come, differing, conclusions, clearly...\n",
              "11305    [people, really, need, sell, this, sampler, bills, even, going, include, sample, worth, least, separately, this, deal, emax, with, standard, memory, stereo, sampling, rackmount, least, voice, bran...\n",
              "11306    [trying, write, windows, based, interface, that, runs, could, anyone, help, understanding, supposed, fork, subprocess, currently, pipes, when, debug, this, program, following, happens, program, ma...\n",
              "11307    [like, share, thoughts, this, topic, arrogance, christians, look, forward, responses, encounters, with, christians, find, myself, dismayed, their, belief, that, their, faith, total, truth, accordi...\n",
              "11308                                                  [sunroof, leaks, always, thought, those, things, were, royal, pain, anyone, provide, insight, know, seal, great, maybe, could, weld, stupid, thing, shut]\n",
              "11309    [danny, rubenstein, israeli, journalist, will, speaking, tonight, wednesday, messy, subject, politics, israel, speaking, hillel, berkeley, campus, talk, sponsored, berkeley, israel, action, commit...\n",
              "11310                                                                                                                                                                                                         []\n",
              "11311                                                                                              [agree, home, runs, clemens, always, memorable, kinda, like, eclipses, hurricanes, they, happen, very, often]\n",
              "11312                  [used, deskjet, with, orange, micros, grappler, system, update, system, system, with, kanji, talk, then, print, deskjet, grappler, deskjet, system, please, tell, deskjet, system, thank]\n",
              "11313    [argument, with, murphy, scared, hell, when, came, last, year, other, hand, club, though, enough, boever, into, awful, games, have, league, appearances, least, some, point, seemed, very, viable, s...\n",
              "Name: clean_doc, Length: 11314, dtype: object"
            ]
          },
          "metadata": {
            "tags": []
          },
          "execution_count": 7
        }
      ]
    },
    {
      "metadata": {
        "id": "LZPyuXN9sOZF",
        "colab_type": "code",
        "colab": {}
      },
      "cell_type": "code",
      "source": [
        "tokenized_doc = tokenized_doc.apply(lambda x: [w for w in x if w not in stop_words])"
      ],
      "execution_count": 0,
      "outputs": []
    },
    {
      "metadata": {
        "id": "8PItOu8Brta3",
        "colab_type": "code",
        "outputId": "4cc2f0ed-5646-47c5-8f29-523b25d478e7",
        "colab": {
          "base_uri": "https://localhost:8080/",
          "height": 1091
        }
      },
      "cell_type": "code",
      "source": [
        "#detokenization\n",
        "detokenized_doc = []\n",
        "for i in range(len(tokenized_doc)): # or len(news_df['clean_doc'])\n",
        "  detokenized = ' '.join(tokenized_doc[i])\n",
        "  detokenized_doc.append(detokenized)\n",
        "\n",
        "news_df['clean_doc'] = detokenized_doc\n",
        "news_df['clean_doc']"
      ],
      "execution_count": 9,
      "outputs": [
        {
          "output_type": "execute_result",
          "data": {
            "text/plain": [
              "0        well sure story seem biased disagree statement media ruin israels reputation rediculous media israeli media world lived europe realize incidences described letter occured media whole seem ignore s...\n",
              "1        yeah expect people read actually accept hard atheism need little leap faith jimmy logic runs steam sorry pity sorry feelings denial faith need well pretend happily ever anyway maybe start newsgrou...\n",
              "2        although realize principle strongest points would still like know question sort arab countries want continue think tank charade fixation israel must stop might start asking sort questions arab cou...\n",
              "3        notwithstanding legitimate fuss proposal much change last product area priced suspect clipper phones came customer automatically preregistered government authorities thus aside attempting legitimi...\n",
              "4                         well change scoring playoff pool unfortunately time right certainly post scoring rules tomorrow matter enter anyway good keith keller rangers quakers kkeller mail upenn league champs\n",
              "5                                                             read somewhere think morton smith jesus magician lazarus dead going tomb part initiation rite magi cult jesus also part appears stay normal wonder\n",
              "6        record shows iisi without cache small enough attach also measured real programs without cache speedup varies ranging think average right subjective difference great sometimes noticable simple cach...\n",
              "7        sounds like wishful guessing called mean would peace process palestineans negociate well founded predictions know well founded test table months prove anything always side fault right know palesti...\n",
              "8        nobody saying allowed force others food want enhance table like salt option eater make commerical product leave include packet like salt packets desire salt pepper mustard ketchup pickles table op...\n",
              "9        wondering anyone shed light electronic odometers remember total elapsed mileage kind memory stable reliable enough volatile enough independent enough outside battery power last years life vehicle ...\n",
              "10       archive name graphics resources list part last modified computer graphics resource listing weekly posting part last change april many faqs including listing available archive site manager alias rt...\n",
              "11                                                roberto clemente topps baseball card sale near mint condition really close mint condition lists recent baseball card pricelist offering certified postage ship\n",
              "12                                                                                           diet evangelist good term fits atkins gordon banks skepticism chastity intellect cadre pitt shameful surrender soon\n",
              "13       damon matter system explanation creation wish accept always start premises creation nothing creation something alternatives accept premises alternatives either creation random according plan rando...\n",
              "14                                                                                                                                                                                 title says need know versions\n",
              "15                                                                                                       move political bickering appropriate group brad kepley internet kepley photon phys unca work days voice\n",
              "16       exactly another observation chip become standard algorithm remain secret leaving government remaining option make escrowed keys illegal begin bother terrorists child abusers government fond referr...\n",
              "17                            course mike ramsey time captain buffalo prior traded pittsburgh currently penguins former captains real captain lemieux playing rotate season even mario even troy loney worn pens\n",
              "18                                                                                                                    texas well corpus christi anyway pick phone dial phone company read back number might work\n",
              "19       sorry thought discussing heresy assumed heresy meant departure orthodoxy case generally accepted belief indeed important issue case definition word create great importance since creation issue dis...\n",
              "20       like info well wavelength think primarily going find usually either common seen also heard sure another make great deal difference another suggestion find brand uses remote look sams photofact oft...\n",
              "21       shot never know bought real cheap equalizer power tape player motel room truckload sales sounded great channel quit entirely opened amplifier chip channel simply melted solder joints attaching sol...\n",
              "22       likely veto proof majority house senate unfortunately different story vowed bill voted power addition senate much smaller readily manipulated body ther hand semi automatic likely live least fifty ...\n",
              "23       trust princes biblical proverb modern analog governments time founding idea citizens rights government common explicit writings founders considerable extent englishmen also rights times change tec...\n",
              "24       promised would give name panther president huizenga announced team name announced bill torrey named first president panthers little sentinel torrey architect four consecutive stanley champions per...\n",
              "25       concept teacher indeed interesting grade curve cheat interesting mention thought provoking concept father children loves love never understand bible says looks heart final measure perspective grad...\n",
              "26                                 really strike funny rather indicative crisis economy imagine desparate need markets sustain industries people nolonger central control government rosenkranz rosen kranz enet\n",
              "27       know willing speculate anyone several people suggested chips public cryptography another possibility diffie hellman exchange algorithm similar effect allows ends agree session symmetric cryptograp...\n",
              "28       game adirondack adirondack leads series first round springfield indians providence bruins springfield providence springfield providence providence springfield providence springfield springfield pr...\n",
              "29                                                                                              coast portland really nice sure even better ways watch weather though good drenching possible oregon coast range\n",
              "                                                                                                          ...                                                                                                   \n",
              "11284                                                                                                                                                                                                           \n",
              "11285                                                                                                                                                                                                       like\n",
              "11286    request discussion request discussion creation newsgroup concerning saab cars allow participaants exchange information purchasing maintaining repairing outfitting saabs group name autos saab statu...\n",
              "11287    pardon wrong newsgroup would describe agnostic sure single universal supreme surely judged whether lived good lives striving achieve goodness within power complication best friends become fundamen...\n",
              "11288                                                                                       anybody know polygon reduction algorithm marching cube surfaces algirithm schroeder siggraph hints hugs kisses erwin\n",
              "11289    since someone brought sports radio howabout sportswriting anyone give opinion city think best sports coverage terms print media general questions washington post better philadelphia inquier times ...\n",
              "11290    well chalk driving away sympathies looking like paranoid lunatic last heard nine apparently point found bodies except killed initial assault couple months cute koresh trail maybe bodily assumed he...\n",
              "11291    please respond email anybody actually seen color space stuff working luck either xtici editor export reilly able example xcms reilly example fails almost every inputs xcmstekhvcquerymaxv returns s...\n",
              "11292    greetings bunch problems opening window desktop occasionally result windows blowing horizontal lines hashing entire desktop nothing recover except completely exit windows irritating problem window...\n",
              "11293                                                                                                                                               mark juric programs mjuric university georgia athens georgia\n",
              "11294    catalog membrane keypads dunno happened long forget name company anyway could make legend slip behind bezel really nice reasonably priced anyone tell critters tried several places none seem keypad...\n",
              "11295    little bike versus scuffling grow goes hope dump dempster campaign works however think crook suprised taken long anything done though obviously hand sure want wackos running throwing rathole might...\n",
              "11296    hello everybody write kind desperate weeks suffering pains left head side left sometimes left made many tests computer tomography negative lyme borreliosis negative electrolytes blood correct rang...\n",
              "11297    reply todamhyp charles unlv brian huey kirilian turned simple conventional explanation phenomenon recall details believe object plates altering field purely mechanical properties like capacitance ...\n",
              "11298    exactly heard fade away nobody kind evidence would able catch assuming either collected brass revolver guess time take trip library look illinois statutes record folks asking curious trying find p...\n",
              "11299                                  whats difference modem modem entirely silly pointing modems already approved data transmission work fine transmit scrambled vocoded voice perry metzger pmetzger shearson\n",
              "11300    babies diseases main problem scenario outline reasonably consistent evidence familiar support indicates something different earth latest estimates billion years life billion years humans around ye...\n",
              "11301    would like know people opinions real world differences without coprocessor anything like mathamatica maple spreadsheets least sheets complicated anything apps although used renderers extensive com...\n",
              "11302    might want clarify game winning streak pens streak playoff streak tied chicago blackhawks pens finals last year game unbeaten regular season unbeaten streak take personally flyers stretch healthy ...\n",
              "11303                                                                                           totally agree sentiment advocate violating question answered scripture worship every long work says sabbath mine\n",
              "11304    agree darren would like personal observation arrogance problem sense personal certainty lack respect others come differing conclusions clearly christian christian whole spectrum belief systems wit...\n",
              "11305    people really need sell sampler bills even going include sample worth least separately deal emax standard memory stereo sampling rackmount least voice brand connor internal scsi drive never used w...\n",
              "11306    trying write windows based interface runs could anyone help understanding supposed fork subprocess currently pipes debug program following happens program main printf enter scanf printf output pro...\n",
              "11307    like share thoughts topic arrogance christians look forward responses encounters christians find dismayed belief faith total truth according beliefs come bible bible word truth thus know truth sta...\n",
              "11308                                                                                   sunroof leaks always thought things royal pain anyone provide insight know seal great maybe could weld stupid thing shut\n",
              "11309                               danny rubenstein israeli journalist speaking tonight wednesday messy subject politics israel speaking hillel berkeley campus talk sponsored berkeley israel action committee\n",
              "11310                                                                                                                                                                                                           \n",
              "11311                                                                                                                       agree home runs clemens always memorable kinda like eclipses hurricanes happen often\n",
              "11312                                                          used deskjet orange micros grappler system update system system kanji talk print deskjet grappler deskjet system please tell deskjet system thank\n",
              "11313    argument murphy scared hell came last year hand club though enough boever awful games league appearances least point seemed viable setup guess considered crucial club remember years well though co...\n",
              "Name: clean_doc, Length: 11314, dtype: object"
            ]
          },
          "metadata": {
            "tags": []
          },
          "execution_count": 9
        }
      ]
    },
    {
      "metadata": {
        "id": "Bsq23weCmtsZ",
        "colab_type": "text"
      },
      "cell_type": "markdown",
      "source": [
        "**Document-Term Matrix**\n",
        "This is the first step towards topic modeling. We will use sklearn’s TfidfVectorizer to create a document-term matrix with 1,000 terms."
      ]
    },
    {
      "metadata": {
        "id": "90jautBpwXRl",
        "colab_type": "code",
        "outputId": "58cccdfe-401a-4719-a49d-4707dc04f283",
        "colab": {
          "base_uri": "https://localhost:8080/",
          "height": 34
        }
      },
      "cell_type": "code",
      "source": [
        "from sklearn.feature_extraction.text import TfidfVectorizer\n",
        "vectorizer = TfidfVectorizer(stop_words='english', \n",
        "max_features= 1000, # keep top 1000 terms \n",
        "max_df = 0.5, \n",
        "smooth_idf=True)\n",
        "\n",
        "X = vectorizer.fit_transform(news_df['clean_doc'])\n",
        "\n",
        "X.shape # check shape of the document-term matrix\n"
      ],
      "execution_count": 10,
      "outputs": [
        {
          "output_type": "execute_result",
          "data": {
            "text/plain": [
              "(11314, 1000)"
            ]
          },
          "metadata": {
            "tags": []
          },
          "execution_count": 10
        }
      ]
    },
    {
      "metadata": {
        "id": "UTd3SCSMm1Zs",
        "colab_type": "text"
      },
      "cell_type": "markdown",
      "source": [
        "**Topic Modeling**\n",
        "The next step is to represent each and every term and document as a vector. We will use the document-term matrix and decompose it into multiple matrices. We will use sklearn’s TruncatedSVD to perform the task of matrix decomposition.\n",
        "\n",
        "Since the data comes from 20 different newsgroups, let’s try to have 20 topics for our text data. The number of topics can be specified by using the n_components parameter."
      ]
    },
    {
      "metadata": {
        "id": "11OzjX9YRGoi",
        "colab_type": "code",
        "outputId": "4acc500e-ecae-4c25-f2da-4b78ad4776a9",
        "colab": {
          "base_uri": "https://localhost:8080/",
          "height": 34
        }
      },
      "cell_type": "code",
      "source": [
        "from sklearn.decomposition import TruncatedSVD\n",
        "\n",
        "# SVD represent documents and terms in vectors \n",
        "svd_model = TruncatedSVD(n_components=20, algorithm='randomized', n_iter=100, random_state=122)\n",
        "\n",
        "svd_model.fit(X)\n",
        "\n",
        "len(svd_model.components_)\n"
      ],
      "execution_count": 11,
      "outputs": [
        {
          "output_type": "execute_result",
          "data": {
            "text/plain": [
              "20"
            ]
          },
          "metadata": {
            "tags": []
          },
          "execution_count": 11
        }
      ]
    },
    {
      "metadata": {
        "id": "vsu9_9MzRMVu",
        "colab_type": "code",
        "outputId": "1a21a63b-2df5-4cb5-e97e-275ce85d6595",
        "colab": {
          "base_uri": "https://localhost:8080/",
          "height": 5117
        }
      },
      "cell_type": "code",
      "source": [
        "terms = vectorizer.get_feature_names()\n",
        "\n",
        "for i, comp in enumerate(svd_model.components_):\n",
        "    terms_comp = zip(terms, comp)\n",
        "    sorted_terms = sorted(terms_comp, key= lambda x:x[1], reverse=True)[:7]\n",
        "    print(\"Topic \"+str(i)+\": \")\n",
        "    for t in sorted_terms:\n",
        "        print(t[0])\n",
        "        print(\" \")\n"
      ],
      "execution_count": 12,
      "outputs": [
        {
          "output_type": "stream",
          "text": [
            "Topic 0: \n",
            "like\n",
            " \n",
            "know\n",
            " \n",
            "people\n",
            " \n",
            "think\n",
            " \n",
            "good\n",
            " \n",
            "time\n",
            " \n",
            "thanks\n",
            " \n",
            "Topic 1: \n",
            "thanks\n",
            " \n",
            "windows\n",
            " \n",
            "card\n",
            " \n",
            "drive\n",
            " \n",
            "mail\n",
            " \n",
            "file\n",
            " \n",
            "advance\n",
            " \n",
            "Topic 2: \n",
            "game\n",
            " \n",
            "team\n",
            " \n",
            "year\n",
            " \n",
            "games\n",
            " \n",
            "season\n",
            " \n",
            "players\n",
            " \n",
            "good\n",
            " \n",
            "Topic 3: \n",
            "drive\n",
            " \n",
            "scsi\n",
            " \n",
            "disk\n",
            " \n",
            "hard\n",
            " \n",
            "card\n",
            " \n",
            "drives\n",
            " \n",
            "problem\n",
            " \n",
            "Topic 4: \n",
            "windows\n",
            " \n",
            "file\n",
            " \n",
            "window\n",
            " \n",
            "files\n",
            " \n",
            "program\n",
            " \n",
            "using\n",
            " \n",
            "problem\n",
            " \n",
            "Topic 5: \n",
            "government\n",
            " \n",
            "chip\n",
            " \n",
            "mail\n",
            " \n",
            "space\n",
            " \n",
            "information\n",
            " \n",
            "encryption\n",
            " \n",
            "data\n",
            " \n",
            "Topic 6: \n",
            "like\n",
            " \n",
            "bike\n",
            " \n",
            "know\n",
            " \n",
            "chip\n",
            " \n",
            "sounds\n",
            " \n",
            "looks\n",
            " \n",
            "look\n",
            " \n",
            "Topic 7: \n",
            "card\n",
            " \n",
            "sale\n",
            " \n",
            "video\n",
            " \n",
            "offer\n",
            " \n",
            "monitor\n",
            " \n",
            "price\n",
            " \n",
            "jesus\n",
            " \n",
            "Topic 8: \n",
            "know\n",
            " \n",
            "card\n",
            " \n",
            "chip\n",
            " \n",
            "video\n",
            " \n",
            "government\n",
            " \n",
            "people\n",
            " \n",
            "clipper\n",
            " \n",
            "Topic 9: \n",
            "good\n",
            " \n",
            "know\n",
            " \n",
            "time\n",
            " \n",
            "bike\n",
            " \n",
            "jesus\n",
            " \n",
            "problem\n",
            " \n",
            "work\n",
            " \n",
            "Topic 10: \n",
            "think\n",
            " \n",
            "chip\n",
            " \n",
            "good\n",
            " \n",
            "thanks\n",
            " \n",
            "clipper\n",
            " \n",
            "need\n",
            " \n",
            "encryption\n",
            " \n",
            "Topic 11: \n",
            "thanks\n",
            " \n",
            "right\n",
            " \n",
            "problem\n",
            " \n",
            "good\n",
            " \n",
            "bike\n",
            " \n",
            "time\n",
            " \n",
            "window\n",
            " \n",
            "Topic 12: \n",
            "good\n",
            " \n",
            "people\n",
            " \n",
            "windows\n",
            " \n",
            "know\n",
            " \n",
            "file\n",
            " \n",
            "sale\n",
            " \n",
            "files\n",
            " \n",
            "Topic 13: \n",
            "space\n",
            " \n",
            "think\n",
            " \n",
            "know\n",
            " \n",
            "nasa\n",
            " \n",
            "problem\n",
            " \n",
            "year\n",
            " \n",
            "israel\n",
            " \n",
            "Topic 14: \n",
            "space\n",
            " \n",
            "good\n",
            " \n",
            "card\n",
            " \n",
            "people\n",
            " \n",
            "time\n",
            " \n",
            "nasa\n",
            " \n",
            "thanks\n",
            " \n",
            "Topic 15: \n",
            "people\n",
            " \n",
            "problem\n",
            " \n",
            "window\n",
            " \n",
            "time\n",
            " \n",
            "game\n",
            " \n",
            "want\n",
            " \n",
            "bike\n",
            " \n",
            "Topic 16: \n",
            "time\n",
            " \n",
            "bike\n",
            " \n",
            "right\n",
            " \n",
            "windows\n",
            " \n",
            "file\n",
            " \n",
            "need\n",
            " \n",
            "really\n",
            " \n",
            "Topic 17: \n",
            "time\n",
            " \n",
            "problem\n",
            " \n",
            "file\n",
            " \n",
            "think\n",
            " \n",
            "israel\n",
            " \n",
            "long\n",
            " \n",
            "mail\n",
            " \n",
            "Topic 18: \n",
            "file\n",
            " \n",
            "need\n",
            " \n",
            "card\n",
            " \n",
            "files\n",
            " \n",
            "problem\n",
            " \n",
            "right\n",
            " \n",
            "good\n",
            " \n",
            "Topic 19: \n",
            "problem\n",
            " \n",
            "file\n",
            " \n",
            "thanks\n",
            " \n",
            "used\n",
            " \n",
            "space\n",
            " \n",
            "chip\n",
            " \n",
            "sale\n",
            " \n"
          ],
          "name": "stdout"
        }
      ]
    },
    {
      "metadata": {
        "id": "si2WQr4km_g1",
        "colab_type": "text"
      },
      "cell_type": "markdown",
      "source": [
        "**Topics Visualization**\n",
        "To find out how distinct our topics are, we should visualize them. Of course, we cannot visualize more than 3 dimensions, but there are techniques like PCA and t-SNE which can help us visualize high dimensional data into lower dimensions. Here we will use a relatively new technique called UMAP (Uniform Manifold Approximation and Projection)."
      ]
    },
    {
      "metadata": {
        "id": "G5IJwN2NRO49",
        "colab_type": "code",
        "outputId": "988723c4-54cb-4bfe-b29a-d64e8f684569",
        "colab": {
          "base_uri": "https://localhost:8080/",
          "height": 322
        }
      },
      "cell_type": "code",
      "source": [
        "import umap\n",
        "\n",
        "X_topics = svd_model.fit_transform(X)\n",
        "embedding = umap.UMAP(n_neighbors=150, min_dist=0.5, random_state=12).fit_transform(X_topics)\n",
        "\n",
        "plt.figure(figsize=(7,5))\n",
        "plt.scatter(embedding[:, 0], embedding[:, 1], \n",
        "c = dataset.target,\n",
        "s = 10, # size\n",
        "edgecolor='none'\n",
        ")\n",
        "plt.show()\n"
      ],
      "execution_count": 13,
      "outputs": [
        {
          "output_type": "display_data",
          "data": {
            "image/png": "[encoded data removed]",
            "text/plain": [
              "<Figure size 504x360 with 1 Axes>"
            ]
          },
          "metadata": {
            "tags": []
          }
        }
      ]
    }
  ]
}