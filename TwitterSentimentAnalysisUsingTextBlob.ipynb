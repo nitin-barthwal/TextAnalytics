{
  "nbformat": 4,
  "nbformat_minor": 0,
  "metadata": {
    "colab": {
      "name": "TwitterSentimentAnalysisUsingTextBlob.ipynb",
      "version": "0.3.2",
      "provenance": [],
      "include_colab_link": true
    },
    "kernelspec": {
      "name": "python3",
      "display_name": "Python 3"
    }
  },
  "cells": [
    {
      "cell_type": "markdown",
      "metadata": {
        "id": "view-in-github",
        "colab_type": "text"
      },
      "source": [
        "<a href=\"https://colab.research.google.com/github/nitin-barthwal/TextAnalytics/blob/master/TwitterSentimentAnalysisUsingTextBlob.ipynb\" target=\"_parent\"><img src=\"https://colab.research.google.com/assets/colab-badge.svg\" alt=\"Open In Colab\"/></a>"
      ]
    },
    {
      "metadata": {
        "id": "wwwJDogE4wnN",
        "colab_type": "text"
      },
      "cell_type": "markdown",
      "source": [
        "# Twitter Sentiment Analysis using TextBlob"
      ]
    },
    {
      "metadata": {
        "id": "LFTHgWbG5BeQ",
        "colab_type": "text"
      },
      "cell_type": "markdown",
      "source": [
        "TextBlob provides an API that can perform different Natural Language Processing (NLP) tasks like Part-of-Speech Tagging, Noun Phrase Extraction, Sentiment Analysis, Classification (Naive Bayes, Decision Tree), Language Translation and Detection, Spelling Correction, etc.\n",
        "\n",
        "\n",
        "TextBlob is built upon Natural Language Toolkit (NLTK).\n",
        "\n",
        "Sentiment Analysis means analyzing the sentiment of a given text or document and categorizing the text/document into a specific class or category (like positive and negative). In other words, we can say that sentiment analysis classifies any particular text or document as positive or negative. Basically, the classification is done for two classes: positive and negative. However, we can add more classes like neutral, highly positive, highly negative, etc.\n",
        "\n",
        "**Installing TextBlob**\n"
      ]
    },
    {
      "metadata": {
        "id": "2G83YJg64zyI",
        "colab_type": "code",
        "colab": {}
      },
      "cell_type": "code",
      "source": [
        "#pip install -U textblob\n",
        "#python -m textblob.download_corpora"
      ],
      "execution_count": 0,
      "outputs": []
    },
    {
      "metadata": {
        "id": "5u59BQzZ5MGl",
        "colab_type": "text"
      },
      "cell_type": "markdown",
      "source": [
        "** TextBlob Sentiment Analysis **\n",
        "\n",
        "I will use textblob that does Sentiment Analysis on any given text. \n",
        "The sentiment property gives the sentiment scores to the given text. There are two scores given: Polarity and Subjectivity."
      ]
    },
    {
      "metadata": {
        "id": "_T5EiviF5kWm",
        "colab_type": "text"
      },
      "cell_type": "markdown",
      "source": [
        "**The polarity score is a float within the range [-1.0, 1.0] where negative value indicates negative text and positive value indicates that the given text is positive.**\n",
        "\n",
        "\n",
        "\n",
        "**The subjectivity is a float within the range [0.0, 1.0] where 0.0 is very objective and 1.0 is very subjective.**"
      ]
    },
    {
      "metadata": {
        "id": "-zngcNn-40CS",
        "colab_type": "code",
        "colab": {
          "base_uri": "https://localhost:8080/",
          "height": 102
        },
        "outputId": "565d794b-a23d-493d-d66f-23fda6e15622"
      },
      "cell_type": "code",
      "source": [
        "from textblob import TextBlob\n",
        "nltk.download('punkt')\n",
        " \n",
        "text = TextBlob(\"I liked machine learning.I am working on it and want to build innovative solutions\")\n",
        " \n",
        "print (text.sentiment)\n",
        "#print ('polarity: {}'.format(text.sentiment.polarity))\n",
        "#print ('subjectivity: {}'.format(text.sentiment.subjectivity))\n",
        "\n",
        " \n",
        "text = TextBlob(\"I dont like Non vegitarian food.It is not good for your health\")\n",
        "print (text.sentiment)\n",
        " \n",
        "text = TextBlob(\"I liked to travel and meet new people.Its a great learning excercise.\")\n",
        "print (text.sentiment)"
      ],
      "execution_count": 6,
      "outputs": [
        {
          "output_type": "stream",
          "text": [
            "[nltk_data] Downloading package punkt to /root/nltk_data...\n",
            "[nltk_data]   Unzipping tokenizers/punkt.zip.\n",
            "Sentiment(polarity=0.55, subjectivity=0.9)\n",
            "Sentiment(polarity=-0.35, subjectivity=0.6000000000000001)\n",
            "Sentiment(polarity=0.5121212121212121, subjectivity=0.6681818181818183)\n"
          ],
          "name": "stdout"
        }
      ]
    },
    {
      "metadata": {
        "id": "yQOsRDU_5voJ",
        "colab_type": "text"
      },
      "cell_type": "markdown",
      "source": [
        "**Using NLTK’s Twitter Corpus**\n",
        "\n",
        "– I am using twitter_samples corpus to train the TextBlob's NaiveBayesClassifier.\n",
        "– Using the twitter_samples corpus, I created a train set and test set containing a certain amount of positive and negative tweets.\n",
        "– And, then  test the accuracy of the trained classifier."
      ]
    },
    {
      "metadata": {
        "id": "NFNRFV415xzd",
        "colab_type": "code",
        "colab": {
          "base_uri": "https://localhost:8080/",
          "height": 102
        },
        "outputId": "1d487963-d45a-4a21-ce9b-946b748f3cde"
      },
      "cell_type": "code",
      "source": [
        "import nltk\n",
        "nltk.download('twitter_samples')\n",
        "\n",
        "from nltk.corpus import twitter_samples\n",
        "\n",
        "\n",
        "print ('Dataset ::',twitter_samples.fileids())\n",
        "\n",
        "pos_tweets = twitter_samples.strings('positive_tweets.json')\n",
        "print ('No of positive tweets ',len(pos_tweets))\n",
        " \n",
        "neg_tweets = twitter_samples.strings('negative_tweets.json')\n",
        "print ('No of negative tweets ',len(neg_tweets)) \n",
        " \n",
        "  \n",
        "# positive tweets words list\n",
        "pos_tweets_set = []\n",
        "for tweet in pos_tweets:\n",
        "    pos_tweets_set.append((tweet, 'pos'))\n",
        "\n",
        "# negative tweets words list\n",
        "neg_tweets_set = []\n",
        "for tweet in neg_tweets:\n",
        "    neg_tweets_set.append((tweet, 'neg'))\n",
        "\n",
        "# radomize pos_reviews_set and neg_reviews_set\n",
        "# doing so will output different accuracy result everytime we run the program\n",
        "from random import shuffle \n",
        "shuffle(pos_tweets_set)\n",
        "shuffle(neg_tweets_set)"
      ],
      "execution_count": 7,
      "outputs": [
        {
          "output_type": "stream",
          "text": [
            "[nltk_data] Downloading package twitter_samples to /root/nltk_data...\n",
            "[nltk_data]   Package twitter_samples is already up-to-date!\n",
            "Dataset :: ['negative_tweets.json', 'positive_tweets.json', 'tweets.20150430-223406.json']\n",
            "No of positive tweets  5000\n",
            "No of negative tweets  5000\n"
          ],
          "name": "stdout"
        }
      ]
    },
    {
      "metadata": {
        "id": "eOhr8mgD6amk",
        "colab_type": "text"
      },
      "cell_type": "markdown",
      "source": [
        "**Create Train and Test Set**\n",
        "\n",
        "Creating a  train and test set:\n",
        "\n",
        "– test set = 2000 tweets (1000 positive + 1000 negative)\n",
        "\n",
        "– train set = 3000 tweets (1500 positive + 1500 negative)\n"
      ]
    },
    {
      "metadata": {
        "id": "AdOOtHjC6hjP",
        "colab_type": "code",
        "colab": {
          "base_uri": "https://localhost:8080/",
          "height": 51
        },
        "outputId": "c117941a-ad10-4820-da71-851fa45c61fa"
      },
      "cell_type": "code",
      "source": [
        "test_set = pos_tweets_set[:500] + neg_tweets_set[:500]\n",
        "train_set = pos_tweets_set[1000:2500] + neg_tweets_set[1000:2500]\n",
        " \n",
        "print('Test Data Size ',len(test_set))\n",
        "print('Train Data Size ',len(train_set)) \n",
        " \n",
        "# train classifier\n",
        "from textblob.classifiers import NaiveBayesClassifier\n",
        "classifier = NaiveBayesClassifier(train_set)"
      ],
      "execution_count": 8,
      "outputs": [
        {
          "output_type": "stream",
          "text": [
            "Test Data Size  1000\n",
            "Train Data Size  3000\n"
          ],
          "name": "stdout"
        }
      ]
    },
    {
      "metadata": {
        "id": "Nv3gTpLx6l7f",
        "colab_type": "text"
      },
      "cell_type": "markdown",
      "source": [
        "**Training the Classifier & Calculating Accuracy**"
      ]
    },
    {
      "metadata": {
        "id": "s-crjlqI6skZ",
        "colab_type": "code",
        "colab": {
          "base_uri": "https://localhost:8080/",
          "height": 272
        },
        "outputId": "e77822a5-2811-4499-f516-d5d2e311df0e"
      },
      "cell_type": "code",
      "source": [
        "# calculate accuracy\n",
        "accuracy = classifier.accuracy(test_set)\n",
        "print ('Accuracy  :: ',accuracy*100) \n",
        " \n",
        "# show most frequently occurring words\n",
        "print (classifier.show_informative_features(10))\n",
        "\n",
        " \n",
        "text = \"It was a nice place , I enjoyed visting and planning to come again.\"\n",
        "print (text ,'  :: ', classifier.classify(text)) \n",
        " \n",
        "text = \"I dont want to talk to you . You are mean and selfish\"\n",
        "print (text,'  :: ', classifier.classify(text)) \n",
        " "
      ],
      "execution_count": 12,
      "outputs": [
        {
          "output_type": "stream",
          "text": [
            "Accuracy  ::  74.1\n",
            "Most Informative Features\n",
            "             contains(D) = True              pos : neg    =     77.0 : 1.0\n",
            "        contains(Thanks) = True              pos : neg    =     45.7 : 1.0\n",
            "          contains(miss) = True              neg : pos    =     29.4 : 1.0\n",
            "           contains(via) = True              pos : neg    =     17.7 : 1.0\n",
            "          contains(Love) = True              pos : neg    =     16.3 : 1.0\n",
            "           contains(sad) = True              neg : pos    =     14.6 : 1.0\n",
            "         contains(Thank) = True              pos : neg    =     12.4 : 1.0\n",
            "           contains(See) = True              pos : neg    =     12.3 : 1.0\n",
            "           contains(TOO) = True              neg : pos    =     12.3 : 1.0\n",
            "           contains(AND) = True              neg : pos    =     12.3 : 1.0\n",
            "None\n",
            "It was a nice place , I enjoyed visting and planning to come again.   ::  pos\n",
            "I dont want to talk to you . You are mean and selfish   ::  neg\n"
          ],
          "name": "stdout"
        }
      ]
    }
  ]
}