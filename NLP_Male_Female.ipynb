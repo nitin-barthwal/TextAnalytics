{
  "nbformat": 4,
  "nbformat_minor": 0,
  "metadata": {
    "colab": {
      "name": "NLP_Male-Female.ipynb",
      "version": "0.3.2",
      "provenance": [],
      "collapsed_sections": [],
      "include_colab_link": true
    },
    "kernelspec": {
      "name": "python3",
      "display_name": "Python 3"
    }
  },
  "cells": [
    {
      "cell_type": "markdown",
      "metadata": {
        "id": "view-in-github",
        "colab_type": "text"
      },
      "source": [
        "<a href=\"https://colab.research.google.com/github/nitin-barthwal/TextAnalytics/blob/master/NLP_Male_Female.ipynb\" target=\"_parent\"><img src=\"https://colab.research.google.com/assets/colab-badge.svg\" alt=\"Open In Colab\"/></a>"
      ]
    },
    {
      "metadata": {
        "id": "VVv4MAOTpyBJ",
        "colab_type": "text"
      },
      "cell_type": "markdown",
      "source": [
        "# Text Classification [Natural Language Processing (NLP)"
      ]
    },
    {
      "metadata": {
        "id": "puMtCKWdvHvj",
        "colab_type": "text"
      },
      "cell_type": "markdown",
      "source": [
        "**Identifying wether a name is of a Male or Female **"
      ]
    },
    {
      "metadata": {
        "id": "CzrO3jlhpu5q",
        "colab_type": "text"
      },
      "cell_type": "markdown",
      "source": [
        "we will use the NLTK’s names corpus as our labeled training data. The names corpus contains a total of around 8K male and female names. It’s compiled by Kantrowitz, Ross.\n",
        "\n",
        "So, we have two categories for classification. They are male and female. Our training data (the “names” corpus) has names that are already labeled as male and names that are already labeled as female."
      ]
    },
    {
      "metadata": {
        "id": "txKKVW2ZnnVB",
        "colab_type": "code",
        "outputId": "db2d81ec-8f29-448a-9838-9c8cc84d750e",
        "colab": {
          "base_uri": "https://localhost:8080/",
          "height": 68
        }
      },
      "cell_type": "code",
      "source": [
        "import nltk\n",
        "nltk.download('names')"
      ],
      "execution_count": 1,
      "outputs": [
        {
          "output_type": "stream",
          "text": [
            "[nltk_data] Downloading package names to /root/nltk_data...\n",
            "[nltk_data]   Unzipping corpora/names.zip.\n"
          ],
          "name": "stdout"
        },
        {
          "output_type": "execute_result",
          "data": {
            "text/plain": [
              "True"
            ]
          },
          "metadata": {
            "tags": []
          },
          "execution_count": 1
        }
      ]
    },
    {
      "metadata": {
        "id": "sWFqMakWnbWZ",
        "colab_type": "code",
        "outputId": "5c230482-f298-4668-be37-6f41e49d8770",
        "colab": {
          "base_uri": "https://localhost:8080/",
          "height": 85
        }
      },
      "cell_type": "code",
      "source": [
        "from nltk.corpus import names \n",
        " \n",
        "#print (names.fileids()) # Output: [female.txt', male.txt']\n",
        " \n",
        "male_names = names.words('male.txt')\n",
        "female_names = names.words('female.txt')\n",
        " \n",
        "print (len(male_names)) # Output: 2943\n",
        "print (len(female_names)) # Output: 5001\n",
        " \n",
        "# print 10 male names\n",
        "print (male_names[10:20])\n",
        "\n",
        " \n",
        "# print 10 female names\n",
        "print (female_names[10:20]) \n"
      ],
      "execution_count": 2,
      "outputs": [
        {
          "output_type": "stream",
          "text": [
            "2943\n",
            "5001\n",
            "['Abdullah', 'Abe', 'Abel', 'Abelard', 'Abner', 'Abraham', 'Abram', 'Ace', 'Adair', 'Adam']\n",
            "['Abra', 'Acacia', 'Ada', 'Adah', 'Adaline', 'Adara', 'Addie', 'Addis', 'Adel', 'Adela']\n"
          ],
          "name": "stdout"
        }
      ]
    },
    {
      "metadata": {
        "id": "ia6PexHxqRAf",
        "colab_type": "text"
      },
      "cell_type": "markdown",
      "source": [
        "**Feature Extraction**\n",
        "\n",
        "To classify the text into any category, we need to define some criteria. On the basis of those criteria, our classifier will learn that a particular kind of text falls in a particular category. This kind of criteria is known as feature. We can define one or more feature to train our classifier.\n",
        "\n",
        "In this example, we will use the last letter of the names as the feature.\n",
        "\n",
        "We will define a function that extracts the last letter of any provided word. The function will return a dictionary containing the last letter information of the given word."
      ]
    },
    {
      "metadata": {
        "id": "T5GSU4FTnxRr",
        "colab_type": "code",
        "outputId": "fe1ce0b9-0b24-4f95-bcb4-502b243b1dea",
        "colab": {
          "base_uri": "https://localhost:8080/",
          "height": 34
        }
      },
      "cell_type": "code",
      "source": [
        "def gender_features(word):\n",
        "    return {'last_letter' : word[-1]}\n",
        " \n",
        "print (gender_features('Nitin')) # Output: {'last_letter': 'n'}"
      ],
      "execution_count": 3,
      "outputs": [
        {
          "output_type": "stream",
          "text": [
            "{'last_letter': 'n'}\n"
          ],
          "name": "stdout"
        }
      ]
    },
    {
      "metadata": {
        "id": "zU2dq4eLrvev",
        "colab_type": "text"
      },
      "cell_type": "markdown",
      "source": [
        "The dictionary returned by the above function is called a feature set. This feature set is used to train the classifier.\n",
        "\n",
        "We will now create a feature set using all the male and female names.\n",
        "\n",
        "For this, we first combine the male and female names and shuffle the combined array."
      ]
    },
    {
      "metadata": {
        "id": "4wJ8qKPNnxXn",
        "colab_type": "code",
        "outputId": "d58a8d9d-1a84-47de-fd23-e55b45cc419b",
        "colab": {
          "base_uri": "https://localhost:8080/",
          "height": 119
        }
      },
      "cell_type": "code",
      "source": [
        "from nltk.corpus import names \n",
        "import random \n",
        " \n",
        "male_names = names.words('male.txt')\n",
        "female_names = names.words('female.txt')\n",
        " \n",
        "labeled_male_names = [(str(name), 'male') for name in male_names]\n",
        " \n",
        "# printing  10 labeled male names\n",
        "print (labeled_male_names[10:20])\n",
        "print('No of Male names :',len(labeled_male_names))\n",
        " \n",
        "labeled_female_names = [(str(name), 'female') for name in female_names]\n",
        " \n",
        "# printing  10 labeled female names\n",
        "print (labeled_female_names[10:20])\n",
        "print('No of Female names :',len(labeled_female_names))\n",
        " \n",
        "# combine labeled male and labeled female names\n",
        "labeled_all_names = labeled_male_names + labeled_female_names\n",
        "print('Total Names : ',len(labeled_all_names))\n",
        "\n",
        "# shuffle the labeled names array\n",
        "random.shuffle(labeled_all_names)\n",
        " \n",
        "# printing  10 labeled all/combined names\n",
        "print (labeled_all_names[10:20])"
      ],
      "execution_count": 4,
      "outputs": [
        {
          "output_type": "stream",
          "text": [
            "[('Abdullah', 'male'), ('Abe', 'male'), ('Abel', 'male'), ('Abelard', 'male'), ('Abner', 'male'), ('Abraham', 'male'), ('Abram', 'male'), ('Ace', 'male'), ('Adair', 'male'), ('Adam', 'male')]\n",
            "No of Male names : 2943\n",
            "[('Abra', 'female'), ('Acacia', 'female'), ('Ada', 'female'), ('Adah', 'female'), ('Adaline', 'female'), ('Adara', 'female'), ('Addie', 'female'), ('Addis', 'female'), ('Adel', 'female'), ('Adela', 'female')]\n",
            "No of Female names : 5001\n",
            "Total Names :  7944\n",
            "[('Jereme', 'male'), ('Alister', 'male'), ('Hetti', 'female'), ('Rustie', 'male'), ('Denice', 'female'), ('Lidia', 'female'), ('Denna', 'female'), ('Donovan', 'male'), ('Avi', 'male'), ('Devan', 'female')]\n"
          ],
          "name": "stdout"
        }
      ]
    },
    {
      "metadata": {
        "id": "0IIN5ja3sjf5",
        "colab_type": "text"
      },
      "cell_type": "markdown",
      "source": [
        "**Extracting Feature & Creating Feature Set**\n",
        "\n",
        "We use the gender_features function that we defined above to extract the feature from the labeled names data. As mentioned above, the feature for this example will be the last letter of the names. So, we extract the last letter of all the labeled names and create a new array with the last letter of each name and the associated label for that particular name. This new array is called the feature set."
      ]
    },
    {
      "metadata": {
        "id": "ZRvchnM3nxaw",
        "colab_type": "code",
        "outputId": "c839ab18-53ce-4664-cb25-b84801b589c1",
        "colab": {
          "base_uri": "https://localhost:8080/",
          "height": 71
        }
      },
      "cell_type": "code",
      "source": [
        "\n",
        "feature_set = [(gender_features(name), gender) for (name, gender) in labeled_all_names]\n",
        " \n",
        "print (labeled_all_names[:10])\n",
        "\n",
        " \n",
        "print (feature_set[:10])"
      ],
      "execution_count": 5,
      "outputs": [
        {
          "output_type": "stream",
          "text": [
            "[('Kane', 'male'), ('Silas', 'male'), ('Liliane', 'female'), ('Fallon', 'female'), ('Kimmy', 'female'), ('Nathanial', 'male'), ('Glynis', 'female'), ('Shaw', 'male'), ('Janie', 'female'), ('Deeann', 'female')]\n",
            "[({'last_letter': 'e'}, 'male'), ({'last_letter': 's'}, 'male'), ({'last_letter': 'e'}, 'female'), ({'last_letter': 'n'}, 'female'), ({'last_letter': 'y'}, 'female'), ({'last_letter': 'l'}, 'male'), ({'last_letter': 's'}, 'female'), ({'last_letter': 'w'}, 'male'), ({'last_letter': 'e'}, 'female'), ({'last_letter': 'n'}, 'female')]\n"
          ],
          "name": "stdout"
        }
      ]
    },
    {
      "metadata": {
        "id": "J24K6WR0tr6u",
        "colab_type": "text"
      },
      "cell_type": "markdown",
      "source": [
        "**Training Classifier**\n",
        "\n",
        "From the feature set we created above, we now create a separate training set and a separate testing/validation set. The train set is used to train the classifier and the test set is used to test the classifier to check how accurately it classifies the given text.\n",
        "\n",
        "**Creating Train and Test Dataset**\n",
        "\n",
        "\n",
        "In this example, we use the first 1500 elements of the feature set array as the test set and the rest of the data as the train set. Generally, 80/20 percent is a fair split between training and testing set, i.e. 80 percent training set and 20 percent testing set."
      ]
    },
    {
      "metadata": {
        "id": "gjQ2S_conxeI",
        "colab_type": "code",
        "outputId": "651504ea-ce00-4695-f538-e1022d9b07b0",
        "colab": {
          "base_uri": "https://localhost:8080/",
          "height": 51
        }
      },
      "cell_type": "code",
      "source": [
        "\n",
        "test_set = feature_set[:1500]\n",
        "train_set = feature_set[1500:]\n",
        " \n",
        "print ('Train set Length',len(train_set)) # Output: 6944\n",
        "print ('Test set Length',len(test_set)) # Output: 1500"
      ],
      "execution_count": 6,
      "outputs": [
        {
          "output_type": "stream",
          "text": [
            "Train set Length 6444\n",
            "Test set Length 1500\n"
          ],
          "name": "stdout"
        }
      ]
    },
    {
      "metadata": {
        "id": "L7kjM0RvuKZT",
        "colab_type": "text"
      },
      "cell_type": "markdown",
      "source": [
        "**Training a Classifier**\n",
        "\n",
        "Now, we train a classifier using the training dataset. There are different kind of classifiers namely Naive Bayes Classifier, Maximum Entropy Classifier, Decision Tree Classifier, Support Vector Machine Classifier, etc.\n",
        "\n",
        "In this example, we use the Naive Bayes Classifier. It’s a simple, fast, and easy classifier which performs well for small datasets. It’s a simple probabilistic classifier based on applying Bayes’ theorem. Bayes’ theorem describes the probability of an event, based on prior knowledge of conditions that might be related to the event."
      ]
    },
    {
      "metadata": {
        "id": "SixfPVihn6WJ",
        "colab_type": "code",
        "colab": {}
      },
      "cell_type": "code",
      "source": [
        "\n",
        "from nltk import NaiveBayesClassifier\n",
        " \n",
        "classifier = NaiveBayesClassifier.train(train_set)"
      ],
      "execution_count": 0,
      "outputs": []
    },
    {
      "metadata": {
        "id": "GlRJZmA3uQPs",
        "colab_type": "text"
      },
      "cell_type": "markdown",
      "source": [
        "**Testing the trained Classifier**\n",
        "\n",
        "Let’s see the output of the classifier by providing some names to it."
      ]
    },
    {
      "metadata": {
        "id": "K2QW6tUyn6ZH",
        "colab_type": "code",
        "outputId": "ee6ac5c6-f2f2-42ab-bb96-6b1252ebab34",
        "colab": {
          "base_uri": "https://localhost:8080/",
          "height": 51
        }
      },
      "cell_type": "code",
      "source": [
        "\n",
        "print (classifier.classify(gender_features('Robert'))) # Output: male\n",
        " \n",
        "print (classifier.classify(gender_features('Katrina'))) # Output: female"
      ],
      "execution_count": 8,
      "outputs": [
        {
          "output_type": "stream",
          "text": [
            "male\n",
            "female\n"
          ],
          "name": "stdout"
        }
      ]
    },
    {
      "metadata": {
        "id": "KmDZevPIuVyu",
        "colab_type": "text"
      },
      "cell_type": "markdown",
      "source": [
        "Let’s see the accuracy percentage of the trained classifier. The accuracy value changes each time you run the program because of the names array being shuffled above.\n",
        "\n"
      ]
    },
    {
      "metadata": {
        "id": "AnR-pHvln6b_",
        "colab_type": "code",
        "outputId": "c1358453-6945-4312-9932-14f33c58dca6",
        "colab": {
          "base_uri": "https://localhost:8080/",
          "height": 34
        }
      },
      "cell_type": "code",
      "source": [
        "\n",
        "from nltk import classify \n",
        " \n",
        "accuracy = classify.accuracy(classifier, test_set)\n",
        " \n",
        "print (accuracy) # Output: 0.76"
      ],
      "execution_count": 9,
      "outputs": [
        {
          "output_type": "stream",
          "text": [
            "0.7513333333333333\n"
          ],
          "name": "stdout"
        }
      ]
    },
    {
      "metadata": {
        "id": "cNjXkMI9ugSy",
        "colab_type": "text"
      },
      "cell_type": "markdown",
      "source": [
        "Let’s see the most informative features among the entire features in the feature set.\n",
        "\n",
        "The result shows that the names ending with letter “k” are male 36.9 times more often than they are female but the names ending with the letter “a” are female 34.1 times more often than they are male. Similarly, for other letters. These ratios are also called likelihood ratios.\n",
        "\n",
        "Therefore, if you provide a name ending with letter “k” to the above trained classifier then it will predict it as “male” and if you provide a name ending with the letter “a” to the classifier then it will predict it as “female”.\n"
      ]
    },
    {
      "metadata": {
        "id": "afZZWG10n6e5",
        "colab_type": "code",
        "outputId": "a57a823c-286c-4a06-c72a-89494f330d45",
        "colab": {
          "base_uri": "https://localhost:8080/",
          "height": 170
        }
      },
      "cell_type": "code",
      "source": [
        "\n",
        "# show 5 most informative features\n",
        "print (classifier.show_most_informative_features(5))\n",
        "\n",
        "print (classifier.classify(gender_features('Nitin'))) # Output: male\n",
        "\n",
        "print (classifier.classify(gender_features('Maggie'))) # Output: female\n"
      ],
      "execution_count": 10,
      "outputs": [
        {
          "output_type": "stream",
          "text": [
            "Most Informative Features\n",
            "             last_letter = 'a'            female : male   =     37.7 : 1.0\n",
            "             last_letter = 'k'              male : female =     27.3 : 1.0\n",
            "             last_letter = 'f'              male : female =     15.2 : 1.0\n",
            "             last_letter = 'd'              male : female =     11.3 : 1.0\n",
            "             last_letter = 'o'              male : female =      9.1 : 1.0\n",
            "None\n",
            "male\n",
            "female\n"
          ],
          "name": "stdout"
        }
      ]
    },
    {
      "metadata": {
        "id": "7LGidBDquo4a",
        "colab_type": "text"
      },
      "cell_type": "markdown",
      "source": [
        "**Note**:\n",
        "We can modify the *gender_features* function to generate the feature set which can improve the accuracy of the trained classifier. For example, we can use both first and last letter of the names as the feature.\n",
        "Feature extractors are built through a process of trial-and-error & guided by intuitions."
      ]
    },
    {
      "metadata": {
        "id": "LJl06tMGnxhp",
        "colab_type": "code",
        "colab": {}
      },
      "cell_type": "code",
      "source": [
        ""
      ],
      "execution_count": 0,
      "outputs": []
    }
  ]
}